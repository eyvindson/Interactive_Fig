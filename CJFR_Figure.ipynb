{
 "cells": [
  {
   "cell_type": "code",
   "execution_count": null,
   "id": "cff7ffee",
   "metadata": {},
   "outputs": [],
   "source": [
    "import pandas as pd\n",
    "import plotly.express as px\n",
    "import os\n",
    "PATH = os.getcwd()\n",
    "\n",
    "test= pd.read_csv(PATH+\"/DATA/ONLINE_Keski-Suomi.csv\")\n",
    "fig = px.line_3d(test, x=\"ALL_NPV_ha\", y=\"ALL_INC_ha\", z=\"PEAT_ha\", color='flow', color_discrete_sequence=['rgb(225, 0, 60)'],width=600, height=600,\n",
    "                labels=dict(ALL_NPV_ha=\"NPV @ 3% € ha<sup>-1</sup>\", ALL_INC_ha=\"Even Flow, m<sup>3</sup>ha<sup>-1</sup> year<sup>-1</sup>\", PEAT_ha=\"\\u0394 CO<sub>2</sub> eq. ha<sup>-1</sup>\"))\n",
    "\n",
    "fig.update_layout(showlegend=False,\n",
    "    autosize=False,\n",
    "    width=600,\n",
    "    height=600,)\n",
    "\n",
    "fig.show()"
   ]
  }
 ],
 "metadata": {
  "kernelspec": {
   "display_name": "Python 3 (ipykernel)",
   "language": "python",
   "name": "python3"
  },
  "language_info": {
   "codemirror_mode": {
    "name": "ipython",
    "version": 3
   },
   "file_extension": ".py",
   "mimetype": "text/x-python",
   "name": "python",
   "nbconvert_exporter": "python",
   "pygments_lexer": "ipython3",
   "version": "3.10.6"
  }
 },
 "nbformat": 4,
 "nbformat_minor": 5
}
